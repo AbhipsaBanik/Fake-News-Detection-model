{
  "cells": [
    {
      "cell_type": "markdown",
      "metadata": {
        "id": "view-in-github",
        "colab_type": "text"
      },
      "source": [
        "<a href=\"https://colab.research.google.com/github/AbhipsaBanik/Fake-News-Detection-model/blob/main/Myntra.ipynb\" target=\"_parent\"><img src=\"https://colab.research.google.com/assets/colab-badge.svg\" alt=\"Open In Colab\"/></a>"
      ]
    },
    {
      "cell_type": "code",
      "execution_count": null,
      "metadata": {
        "colab": {
          "base_uri": "https://localhost:8080/"
        },
        "id": "-f0J6eN0Z06J",
        "outputId": "9ea3fb1c-94fb-45f9-e39f-f27b66fbd87e"
      },
      "outputs": [
        {
          "output_type": "stream",
          "name": "stdout",
          "text": [
            "Collecting diffusers\n",
            "  Downloading diffusers-0.29.2-py3-none-any.whl (2.2 MB)\n",
            "\u001b[2K     \u001b[90m━━━━━━━━━━━━━━━━━━━━━━━━━━━━━━━━━━━━━━━━\u001b[0m \u001b[32m2.2/2.2 MB\u001b[0m \u001b[31m17.6 MB/s\u001b[0m eta \u001b[36m0:00:00\u001b[0m\n",
            "\u001b[?25hRequirement already satisfied: transformers in /usr/local/lib/python3.10/dist-packages (4.41.2)\n",
            "Collecting ftfy\n",
            "  Downloading ftfy-6.2.0-py3-none-any.whl (54 kB)\n",
            "\u001b[2K     \u001b[90m━━━━━━━━━━━━━━━━━━━━━━━━━━━━━━━━━━━━━━━━\u001b[0m \u001b[32m54.4/54.4 kB\u001b[0m \u001b[31m6.9 MB/s\u001b[0m eta \u001b[36m0:00:00\u001b[0m\n",
            "\u001b[?25hCollecting accelerate\n",
            "  Downloading accelerate-0.32.1-py3-none-any.whl (314 kB)\n",
            "\u001b[2K     \u001b[90m━━━━━━━━━━━━━━━━━━━━━━━━━━━━━━━━━━━━━━━━\u001b[0m \u001b[32m314.1/314.1 kB\u001b[0m \u001b[31m26.5 MB/s\u001b[0m eta \u001b[36m0:00:00\u001b[0m\n",
            "\u001b[?25hRequirement already satisfied: importlib-metadata in /usr/local/lib/python3.10/dist-packages (from diffusers) (8.0.0)\n",
            "Requirement already satisfied: filelock in /usr/local/lib/python3.10/dist-packages (from diffusers) (3.15.4)\n",
            "Requirement already satisfied: huggingface-hub>=0.23.2 in /usr/local/lib/python3.10/dist-packages (from diffusers) (0.23.4)\n",
            "Requirement already satisfied: numpy in /usr/local/lib/python3.10/dist-packages (from diffusers) (1.25.2)\n",
            "Requirement already satisfied: regex!=2019.12.17 in /usr/local/lib/python3.10/dist-packages (from diffusers) (2024.5.15)\n",
            "Requirement already satisfied: requests in /usr/local/lib/python3.10/dist-packages (from diffusers) (2.31.0)\n",
            "Requirement already satisfied: safetensors>=0.3.1 in /usr/local/lib/python3.10/dist-packages (from diffusers) (0.4.3)\n",
            "Requirement already satisfied: Pillow in /usr/local/lib/python3.10/dist-packages (from diffusers) (9.4.0)\n",
            "Requirement already satisfied: packaging>=20.0 in /usr/local/lib/python3.10/dist-packages (from transformers) (24.1)\n",
            "Requirement already satisfied: pyyaml>=5.1 in /usr/local/lib/python3.10/dist-packages (from transformers) (6.0.1)\n",
            "Requirement already satisfied: tokenizers<0.20,>=0.19 in /usr/local/lib/python3.10/dist-packages (from transformers) (0.19.1)\n",
            "Requirement already satisfied: tqdm>=4.27 in /usr/local/lib/python3.10/dist-packages (from transformers) (4.66.4)\n",
            "Requirement already satisfied: wcwidth<0.3.0,>=0.2.12 in /usr/local/lib/python3.10/dist-packages (from ftfy) (0.2.13)\n",
            "Requirement already satisfied: psutil in /usr/local/lib/python3.10/dist-packages (from accelerate) (5.9.5)\n",
            "Requirement already satisfied: torch>=1.10.0 in /usr/local/lib/python3.10/dist-packages (from accelerate) (2.3.0+cu121)\n",
            "Requirement already satisfied: fsspec>=2023.5.0 in /usr/local/lib/python3.10/dist-packages (from huggingface-hub>=0.23.2->diffusers) (2023.6.0)\n",
            "Requirement already satisfied: typing-extensions>=3.7.4.3 in /usr/local/lib/python3.10/dist-packages (from huggingface-hub>=0.23.2->diffusers) (4.12.2)\n",
            "Requirement already satisfied: sympy in /usr/local/lib/python3.10/dist-packages (from torch>=1.10.0->accelerate) (1.13.0)\n",
            "Requirement already satisfied: networkx in /usr/local/lib/python3.10/dist-packages (from torch>=1.10.0->accelerate) (3.3)\n",
            "Requirement already satisfied: jinja2 in /usr/local/lib/python3.10/dist-packages (from torch>=1.10.0->accelerate) (3.1.4)\n",
            "Collecting nvidia-cuda-nvrtc-cu12==12.1.105 (from torch>=1.10.0->accelerate)\n",
            "  Using cached nvidia_cuda_nvrtc_cu12-12.1.105-py3-none-manylinux1_x86_64.whl (23.7 MB)\n",
            "Collecting nvidia-cuda-runtime-cu12==12.1.105 (from torch>=1.10.0->accelerate)\n",
            "  Using cached nvidia_cuda_runtime_cu12-12.1.105-py3-none-manylinux1_x86_64.whl (823 kB)\n",
            "Collecting nvidia-cuda-cupti-cu12==12.1.105 (from torch>=1.10.0->accelerate)\n",
            "  Using cached nvidia_cuda_cupti_cu12-12.1.105-py3-none-manylinux1_x86_64.whl (14.1 MB)\n",
            "Collecting nvidia-cudnn-cu12==8.9.2.26 (from torch>=1.10.0->accelerate)\n",
            "\u001b[31mERROR: Operation cancelled by user\u001b[0m\u001b[31m\n",
            "\u001b[0m"
          ]
        }
      ],
      "source": [
        "# uncomment to install the necessary libraries in Colab\n",
        "!pip install diffusers transformers ftfy accelerate"
      ]
    },
    {
      "cell_type": "code",
      "execution_count": null,
      "metadata": {
        "colab": {
          "base_uri": "https://localhost:8080/",
          "height": 349
        },
        "id": "rr80yd8nZ5Wb",
        "outputId": "b6747fbe-06df-42e4-9413-7defcf5a5583"
      },
      "outputs": [
        {
          "output_type": "error",
          "ename": "ModuleNotFoundError",
          "evalue": "No module named 'diffusers'",
          "traceback": [
            "\u001b[0;31m---------------------------------------------------------------------------\u001b[0m",
            "\u001b[0;31mModuleNotFoundError\u001b[0m                       Traceback (most recent call last)",
            "\u001b[0;32m<ipython-input-2-294bbee4db93>\u001b[0m in \u001b[0;36m<cell line: 1>\u001b[0;34m()\u001b[0m\n\u001b[0;32m----> 1\u001b[0;31m \u001b[0;32mfrom\u001b[0m \u001b[0mdiffusers\u001b[0m \u001b[0;32mimport\u001b[0m \u001b[0mAutoPipelineForInpainting\u001b[0m\u001b[0;34m,\u001b[0m\u001b[0mAutoencoderKL\u001b[0m\u001b[0;34m\u001b[0m\u001b[0;34m\u001b[0m\u001b[0m\n\u001b[0m\u001b[1;32m      2\u001b[0m \u001b[0;32mfrom\u001b[0m \u001b[0mdiffusers\u001b[0m\u001b[0;34m.\u001b[0m\u001b[0mutils\u001b[0m \u001b[0;32mimport\u001b[0m \u001b[0mload_image\u001b[0m\u001b[0;34m\u001b[0m\u001b[0;34m\u001b[0m\u001b[0m\n\u001b[1;32m      3\u001b[0m \u001b[0;32mimport\u001b[0m \u001b[0mtorch\u001b[0m\u001b[0;34m\u001b[0m\u001b[0;34m\u001b[0m\u001b[0m\n",
            "\u001b[0;31mModuleNotFoundError\u001b[0m: No module named 'diffusers'",
            "",
            "\u001b[0;31m---------------------------------------------------------------------------\u001b[0;32m\nNOTE: If your import is failing due to a missing package, you can\nmanually install dependencies using either !pip or !apt.\n\nTo view examples of installing some common dependencies, click the\n\"Open Examples\" button below.\n\u001b[0;31m---------------------------------------------------------------------------\u001b[0m\n"
          ],
          "errorDetails": {
            "actions": [
              {
                "action": "open_url",
                "actionText": "Open Examples",
                "url": "/notebooks/snippets/importing_libraries.ipynb"
              }
            ]
          }
        }
      ],
      "source": [
        "from diffusers import AutoPipelineForInpainting,AutoencoderKL\n",
        "from diffusers.utils import load_image\n",
        "import torch"
      ]
    },
    {
      "cell_type": "code",
      "execution_count": null,
      "metadata": {
        "id": "lpcGRtFodOtf"
      },
      "outputs": [],
      "source": [
        "vae = AutoencoderKL.from_pretrained(\"madebyollin/sdxl-vae-fp16-fix\", torch_dtype=torch.float16)\n"
      ]
    },
    {
      "cell_type": "code",
      "execution_count": null,
      "metadata": {
        "id": "d3xW9m-KdIRv"
      },
      "outputs": [],
      "source": [
        "pipeline = AutoPipelineForInpainting.from_pretrained(\"diffusers/stable-diffusion-xl-1.0-inpainting-0.1\",\n",
        "                                                     vae=vae,\n",
        "                                                     torch_dtype=torch.float16,\n",
        "                                                     variant=\"fp16\",\n",
        "                                                     use_safetensors=True\n",
        "                                                    ).to(\"cuda\")\n"
      ]
    },
    {
      "cell_type": "code",
      "execution_count": null,
      "metadata": {
        "id": "aZT8ILhGdqGO"
      },
      "outputs": [],
      "source": [
        "pipeline.load_ip_adapter(\"h94/IP-Adapter\", subfolder=\"sdxl_models\", weight_name=\"ip-adapter_sdxl.bin\", low_cpu_mem_usage=True)\n"
      ]
    },
    {
      "cell_type": "code",
      "execution_count": null,
      "metadata": {
        "id": "dxbXJn4afNH3"
      },
      "outputs": [],
      "source": [
        "pipeline.set_ip_adapter_scale(1.0)"
      ]
    },
    {
      "cell_type": "code",
      "execution_count": null,
      "metadata": {
        "id": "q5WyKJMxbgBw"
      },
      "outputs": [],
      "source": [
        "! git clone https://github.com/TonyAssi/Segment-Body.git\n",
        "%cd /content/Segment-Body\n",
        "! pip install -r requirements.txt\n",
        "! cp ./SegBody.py ..\n",
        "%cd .."
      ]
    },
    {
      "cell_type": "code",
      "execution_count": null,
      "metadata": {
        "id": "5lIrGqONffem"
      },
      "outputs": [],
      "source": [
        "from SegBody import segment_torso"
      ]
    },
    {
      "cell_type": "code",
      "execution_count": null,
      "metadata": {
        "id": "a8BzkDuTfkyh"
      },
      "outputs": [],
      "source": [
        "image = load_image('https://levihsu-ootdiffusion.hf.space/file=/tmp/gradio/53930168509f45751043bae54b361093892d5b5f/05997_00.jpg').convert(\"RGB\")\n",
        "image.resize((256, 256))"
      ]
    },
    {
      "cell_type": "code",
      "execution_count": null,
      "metadata": {
        "id": "7fL6I-9yfumx"
      },
      "outputs": [],
      "source": [
        "seg_img, mask_image = segment_torso(image)\n",
        "mask_image.resize((256, 256))"
      ]
    },
    {
      "cell_type": "code",
      "execution_count": null,
      "metadata": {
        "id": "E1-C7zaQfzQq"
      },
      "outputs": [],
      "source": [
        "ip_image = load_image('https://levihsu-ootdiffusion.hf.space/file=/tmp/gradio/e28fc56e21c31a3b88cecfaa12d05f4231fe67c9/02015_00.jpg').convert(\"RGB\")\n",
        "ip_image.resize((256, 256))\n"
      ]
    },
    {
      "cell_type": "code",
      "execution_count": null,
      "metadata": {
        "id": "WJJDv73EgWmV"
      },
      "outputs": [],
      "source": [
        "final_image = pipeline(\n",
        "    prompt=\"photorealistic, perfect body, beautiful skin, realistic skin, natural skin8K\",\n",
        "    negative_prompt=\"ugly, bad quality, bad anatomy, deformed body, deformed hands, deformed feet, deformed face, deformed clothing, deformed skin, bad skin, leggings, tights, stockings\",\n",
        "    image=image,\n",
        "    mask_image=mask_image,\n",
        "    ip_adapter_image=ip_image,\n",
        "    strength=0.99,\n",
        "    guidance_scale=10,\n",
        "    num_inference_steps=100,\n",
        "    height=256,\n",
        "    width=256\n",
        ").images[0]\n"
      ]
    },
    {
      "cell_type": "code",
      "source": [
        "final_image.resize((256, 256))\n"
      ],
      "metadata": {
        "id": "GyE2VVsVlszj"
      },
      "execution_count": null,
      "outputs": []
    },
    {
      "cell_type": "code",
      "source": [
        "ip_image2 = load_image('https://levihsu-ootdiffusion.hf.space/file=/tmp/gradio/44aee6b576cae51eeb979311306375b56b7e0d8b/02305_00.jpg').convert(\"RGB\")\n",
        "ip_image2.resize((256, 256))"
      ],
      "metadata": {
        "id": "ywdgqVlifvrM"
      },
      "execution_count": null,
      "outputs": []
    },
    {
      "cell_type": "code",
      "source": [
        "final_image2 = pipeline(\n",
        "    prompt=\"photorealistic, perfect body, beautiful skin, realistic skin, natural skin,8K\",\n",
        "    negative_prompt=\"ugly, bad quality, bad anatomy, deformed body, deformed hands, deformed feet, deformed face, deformed clothing, deformed skin, bad skin, leggings, tights, stockings\",\n",
        "    image=image,\n",
        "    mask_image=mask_image,\n",
        "    ip_adapter_image=ip_image2,\n",
        "    strength=0.99,\n",
        "    guidance_scale=10,\n",
        "    num_inference_steps=100,\n",
        "    height=256,\n",
        "    width=256\n",
        ").images[0]\n"
      ],
      "metadata": {
        "id": "n8jvzigDgN1T"
      },
      "execution_count": null,
      "outputs": []
    },
    {
      "cell_type": "code",
      "source": [
        "final_image.resize((256, 256))\n"
      ],
      "metadata": {
        "id": "btH9biMJlyjC"
      },
      "execution_count": null,
      "outputs": []
    },
    {
      "cell_type": "code",
      "source": [
        "ip_image3 = load_image('https://levihsu-ootdiffusion.hf.space/file=/tmp/gradio/6a3ca9b662da47ee5adb376a06bd958526ea0b1e/00151_00.jpg').convert(\"RGB\")\n",
        "ip_image2.resize((256, 256))"
      ],
      "metadata": {
        "id": "5VmWbAF7gZ8Q"
      },
      "execution_count": null,
      "outputs": []
    },
    {
      "cell_type": "code",
      "source": [
        "final_image3 = pipeline(\n",
        "    prompt=\"photorealistic, perfect body, beautiful skin, realistic skin, natural skin,8K\",\n",
        "    negative_prompt=\"ugly, bad quality, bad anatomy, deformed body, deformed hands, deformed feet, deformed face, deformed clothing, deformed skin, bad skin, leggings, tights, stockings\",\n",
        "    image=image,\n",
        "    mask_image=mask_image,\n",
        "    ip_adapter_image=ip_image3,\n",
        "    strength=0.99,\n",
        "    guidance_scale=10,\n",
        "    num_inference_steps=100,\n",
        "    height=256,\n",
        "    width=256\n",
        ").images[0]\n"
      ],
      "metadata": {
        "id": "ufR8OZu3gkZz"
      },
      "execution_count": null,
      "outputs": []
    },
    {
      "cell_type": "code",
      "source": [
        "final_image3.resize((256, 256))\n"
      ],
      "metadata": {
        "id": "grVN1ezjlz61"
      },
      "execution_count": null,
      "outputs": []
    },
    {
      "cell_type": "code",
      "source": [
        "image2 = load_image('https://levihsu-ootdiffusion.hf.space/file=/tmp/gradio/55b1a04e829143e37aa8f87b2513e3d64584ad94/model_9.png').convert(\"RGB\")\n",
        "image2.resize((256, 256))"
      ],
      "metadata": {
        "id": "RmkeSKyYgn5v"
      },
      "execution_count": null,
      "outputs": []
    },
    {
      "cell_type": "code",
      "source": [
        "from SegBody import segment_body\n",
        "seg_image, mask_image2 = segment_body(image, face=False)\n"
      ],
      "metadata": {
        "id": "Xu9mhAJfhLcl"
      },
      "execution_count": null,
      "outputs": []
    },
    {
      "cell_type": "code",
      "source": [
        "ip_image4 = load_image('https://levihsu-ootdiffusion.hf.space/file=/tmp/gradio/a8ab8bae9afb6099bdaa4ce33b70cdb391460cd5/053744_1.jpg').convert(\"RGB\")\n",
        "ip_image4.resize((256, 256))\n"
      ],
      "metadata": {
        "id": "EhXsBHsthOGC"
      },
      "execution_count": null,
      "outputs": []
    },
    {
      "cell_type": "code",
      "source": [
        "final_image4 = pipeline(\n",
        "    prompt=\"photorealistic, perfect body, beautiful skin, realistic skin, natural skin,8k\",\n",
        "    negative_prompt=\"ugly, bad quality, bad anatomy, deformed body, deformed hands, deformed feet, deformed face, deformed clothing, deformed skin, bad skin, leggings, tights, stockings\",\n",
        "    image=image2,\n",
        "    mask_image=mask_image2,\n",
        "    ip_adapter_image=ip_image4,\n",
        "    strength=0.99,\n",
        "    guidance_scale=10,\n",
        "    num_inference_steps=100,\n",
        "    height=256,\n",
        "    width=256\n",
        ").images[0]\n"
      ],
      "metadata": {
        "id": "L1fff7cihfSi"
      },
      "execution_count": null,
      "outputs": []
    },
    {
      "cell_type": "code",
      "source": [
        "final_image4.resize((256, 256))\n"
      ],
      "metadata": {
        "id": "ZoENsCdHl1Vc"
      },
      "execution_count": null,
      "outputs": []
    }
  ],
  "metadata": {
    "accelerator": "GPU",
    "colab": {
      "gpuType": "T4",
      "provenance": [],
      "include_colab_link": true
    },
    "kernelspec": {
      "display_name": "Python 3",
      "name": "python3"
    },
    "language_info": {
      "name": "python"
    }
  },
  "nbformat": 4,
  "nbformat_minor": 0
}